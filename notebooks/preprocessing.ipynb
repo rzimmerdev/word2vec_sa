{
 "cells": [
  {
   "cell_type": "code",
   "execution_count": 15,
   "metadata": {
    "collapsed": true,
    "pycharm": {
     "name": "#%%\n"
    }
   },
   "outputs": [],
   "source": [
    "import pandas as pd"
   ]
  },
  {
   "cell_type": "code",
   "execution_count": 16,
   "outputs": [],
   "source": [
    "# Download from https://www.kaggle.com/datasets/crowdflower/twitter-airline-sentiment?resource=download\n",
    "dataset_file = \"../downloads/tweets.csv\"\n",
    "df = pd.read_csv(dataset_file)"
   ],
   "metadata": {
    "collapsed": false,
    "pycharm": {
     "name": "#%%\n"
    }
   }
  },
  {
   "cell_type": "code",
   "execution_count": 17,
   "outputs": [
    {
     "data": {
      "text/plain": "             tweet_id airline_sentiment  airline_sentiment_confidence  \\\n0  570306133677760513           neutral                        1.0000   \n1  570301130888122368          positive                        0.3486   \n2  570301083672813571           neutral                        0.6837   \n3  570301031407624196          negative                        1.0000   \n4  570300817074462722          negative                        1.0000   \n\n  negativereason  negativereason_confidence         airline  \\\n0            NaN                        NaN  Virgin America   \n1            NaN                     0.0000  Virgin America   \n2            NaN                        NaN  Virgin America   \n3     Bad Flight                     0.7033  Virgin America   \n4     Can't Tell                     1.0000  Virgin America   \n\n  airline_sentiment_gold        name negativereason_gold  retweet_count  \\\n0                    NaN     cairdin                 NaN              0   \n1                    NaN    jnardino                 NaN              0   \n2                    NaN  yvonnalynn                 NaN              0   \n3                    NaN    jnardino                 NaN              0   \n4                    NaN    jnardino                 NaN              0   \n\n                                                text tweet_coord  \\\n0                @VirginAmerica What @dhepburn said.         NaN   \n1  @VirginAmerica plus you've added commercials t...         NaN   \n2  @VirginAmerica I didn't today... Must mean I n...         NaN   \n3  @VirginAmerica it's really aggressive to blast...         NaN   \n4  @VirginAmerica and it's a really big bad thing...         NaN   \n\n               tweet_created tweet_location               user_timezone  \n0  2015-02-24 11:35:52 -0800            NaN  Eastern Time (US & Canada)  \n1  2015-02-24 11:15:59 -0800            NaN  Pacific Time (US & Canada)  \n2  2015-02-24 11:15:48 -0800      Lets Play  Central Time (US & Canada)  \n3  2015-02-24 11:15:36 -0800            NaN  Pacific Time (US & Canada)  \n4  2015-02-24 11:14:45 -0800            NaN  Pacific Time (US & Canada)  ",
      "text/html": "<div>\n<style scoped>\n    .dataframe tbody tr th:only-of-type {\n        vertical-align: middle;\n    }\n\n    .dataframe tbody tr th {\n        vertical-align: top;\n    }\n\n    .dataframe thead th {\n        text-align: right;\n    }\n</style>\n<table border=\"1\" class=\"dataframe\">\n  <thead>\n    <tr style=\"text-align: right;\">\n      <th></th>\n      <th>tweet_id</th>\n      <th>airline_sentiment</th>\n      <th>airline_sentiment_confidence</th>\n      <th>negativereason</th>\n      <th>negativereason_confidence</th>\n      <th>airline</th>\n      <th>airline_sentiment_gold</th>\n      <th>name</th>\n      <th>negativereason_gold</th>\n      <th>retweet_count</th>\n      <th>text</th>\n      <th>tweet_coord</th>\n      <th>tweet_created</th>\n      <th>tweet_location</th>\n      <th>user_timezone</th>\n    </tr>\n  </thead>\n  <tbody>\n    <tr>\n      <th>0</th>\n      <td>570306133677760513</td>\n      <td>neutral</td>\n      <td>1.0000</td>\n      <td>NaN</td>\n      <td>NaN</td>\n      <td>Virgin America</td>\n      <td>NaN</td>\n      <td>cairdin</td>\n      <td>NaN</td>\n      <td>0</td>\n      <td>@VirginAmerica What @dhepburn said.</td>\n      <td>NaN</td>\n      <td>2015-02-24 11:35:52 -0800</td>\n      <td>NaN</td>\n      <td>Eastern Time (US &amp; Canada)</td>\n    </tr>\n    <tr>\n      <th>1</th>\n      <td>570301130888122368</td>\n      <td>positive</td>\n      <td>0.3486</td>\n      <td>NaN</td>\n      <td>0.0000</td>\n      <td>Virgin America</td>\n      <td>NaN</td>\n      <td>jnardino</td>\n      <td>NaN</td>\n      <td>0</td>\n      <td>@VirginAmerica plus you've added commercials t...</td>\n      <td>NaN</td>\n      <td>2015-02-24 11:15:59 -0800</td>\n      <td>NaN</td>\n      <td>Pacific Time (US &amp; Canada)</td>\n    </tr>\n    <tr>\n      <th>2</th>\n      <td>570301083672813571</td>\n      <td>neutral</td>\n      <td>0.6837</td>\n      <td>NaN</td>\n      <td>NaN</td>\n      <td>Virgin America</td>\n      <td>NaN</td>\n      <td>yvonnalynn</td>\n      <td>NaN</td>\n      <td>0</td>\n      <td>@VirginAmerica I didn't today... Must mean I n...</td>\n      <td>NaN</td>\n      <td>2015-02-24 11:15:48 -0800</td>\n      <td>Lets Play</td>\n      <td>Central Time (US &amp; Canada)</td>\n    </tr>\n    <tr>\n      <th>3</th>\n      <td>570301031407624196</td>\n      <td>negative</td>\n      <td>1.0000</td>\n      <td>Bad Flight</td>\n      <td>0.7033</td>\n      <td>Virgin America</td>\n      <td>NaN</td>\n      <td>jnardino</td>\n      <td>NaN</td>\n      <td>0</td>\n      <td>@VirginAmerica it's really aggressive to blast...</td>\n      <td>NaN</td>\n      <td>2015-02-24 11:15:36 -0800</td>\n      <td>NaN</td>\n      <td>Pacific Time (US &amp; Canada)</td>\n    </tr>\n    <tr>\n      <th>4</th>\n      <td>570300817074462722</td>\n      <td>negative</td>\n      <td>1.0000</td>\n      <td>Can't Tell</td>\n      <td>1.0000</td>\n      <td>Virgin America</td>\n      <td>NaN</td>\n      <td>jnardino</td>\n      <td>NaN</td>\n      <td>0</td>\n      <td>@VirginAmerica and it's a really big bad thing...</td>\n      <td>NaN</td>\n      <td>2015-02-24 11:14:45 -0800</td>\n      <td>NaN</td>\n      <td>Pacific Time (US &amp; Canada)</td>\n    </tr>\n  </tbody>\n</table>\n</div>"
     },
     "execution_count": 17,
     "metadata": {},
     "output_type": "execute_result"
    }
   ],
   "source": [
    "df.head(5)"
   ],
   "metadata": {
    "collapsed": false,
    "pycharm": {
     "name": "#%%\n"
    }
   }
  },
  {
   "cell_type": "code",
   "execution_count": 18,
   "outputs": [
    {
     "name": "stdout",
     "output_type": "stream",
     "text": [
      "Count of ratings:\n",
      "negative    9178\n",
      "neutral     3099\n",
      "positive    2363\n",
      "Name: airline_sentiment, dtype: int64\n"
     ]
    }
   ],
   "source": [
    "import matplotlib.pyplot as plt\n",
    "\n",
    "sentiment_column = 'airline_sentiment'\n",
    "\n",
    "print(\"Count of ratings:\")\n",
    "print(df[sentiment_column].value_counts())\n",
    "def map_sentiment(feeling):\n",
    "    return {\n",
    "        \"positive\": 1,\n",
    "        \"neutral\": 0,\n",
    "        \"negative\": -1\n",
    "    }[feeling]\n",
    "\n",
    "df['sentiment'] = df[sentiment_column].map(map_sentiment)\n",
    "\n",
    "def plot_sentiment(image):\n",
    "    plt.figure()\n",
    "    pd.value_counts(image['sentiment']).plot.bar(title=\"Sentiment distribution in df\")\n",
    "    plt.xlabel(\"Sentiment\")\n",
    "    plt.ylabel(\"No. of rows in df\")\n",
    "    plt.show()"
   ],
   "metadata": {
    "collapsed": false,
    "pycharm": {
     "name": "#%%\n"
    }
   }
  },
  {
   "cell_type": "code",
   "execution_count": 19,
   "outputs": [
    {
     "data": {
      "text/plain": "<Figure size 432x288 with 1 Axes>",
      "image/png": "[encoded data removed]"
     },
     "metadata": {
      "needs_background": "light"
     },
     "output_type": "display_data"
    }
   ],
   "source": [
    "plot_sentiment(df)"
   ],
   "metadata": {
    "collapsed": false,
    "pycharm": {
     "name": "#%%\n"
    }
   }
  },
  {
   "cell_type": "code",
   "execution_count": 20,
   "outputs": [],
   "source": [
    "def top_df(image, top_n=2300):\n",
    "    df_positive = image[image['sentiment'] == 1].head(top_n)\n",
    "    df_negative = image[image['sentiment'] == -1].head(top_n)\n",
    "    df_neutral = image[image['sentiment'] == 0].head(top_n)\n",
    "    df_small = pd.concat([df_positive, df_negative, df_neutral])\n",
    "    return df_small"
   ],
   "metadata": {
    "collapsed": false,
    "pycharm": {
     "name": "#%%\n"
    }
   }
  },
  {
   "cell_type": "code",
   "execution_count": 21,
   "outputs": [
    {
     "data": {
      "text/plain": "<Figure size 432x288 with 1 Axes>",
      "image/png": "[encoded data removed]"
     },
     "metadata": {
      "needs_background": "light"
     },
     "output_type": "display_data"
    }
   ],
   "source": [
    "small_df = top_df(df)\n",
    "plot_sentiment(small_df)"
   ],
   "metadata": {
    "collapsed": false,
    "pycharm": {
     "name": "#%%\n"
    }
   }
  },
  {
   "cell_type": "code",
   "execution_count": 26,
   "outputs": [],
   "source": [
    "import unicodedata\n",
    "import re\n",
    "\n",
    "def tokenize(text, lowercase=False, deacc=False, errors=\"strict\", to_lower=False, lower=False):\n",
    "    \"\"\"\n",
    "    Iteratively yield tokens as unicode strings, removing accent marks\n",
    "    and optionally lowercasing the unidoce string by assigning True\n",
    "    to one of the parameters, lowercase, to_lower, or lower.\n",
    "\n",
    "    Input text may be either unicode or utf8-encoded byte string.\n",
    "\n",
    "    The tokens on output are maximal contiguous sequences of alphabetic\n",
    "    characters (no digits!).\n",
    "\n",
    "    >>> list(tokenize('Nic nemůže letět rychlostí vyšší, než 300 tisíc kilometrů za sekundu!', deacc = True))\n",
    "    [u'Nic', u'nemuze', u'letet', u'rychlosti', u'vyssi', u'nez', u'tisic', u'kilometru', u'za', u'sekundu']\n",
    "\n",
    "    \"\"\"\n",
    "    lowercase = lowercase or to_lower or lower\n",
    "    if lowercase:\n",
    "        text = text.lower()\n",
    "    if deacc:\n",
    "        nfkd_form = unicodedata.normalize('NFKD', text)\n",
    "        text = unicodedata.normalize('ASCII', 'ignore')\n",
    "    PAT_ALPHABETIC = re.compile('(((?![\\d])\\w)+)', re.UNICODE)\n",
    "    for match in PAT_ALPHABETIC.finditer(text):\n",
    "        yield match.group()\n",
    "\n",
    "\n",
    "def simple_preprocess(doc, deacc=False, min_len=2, max_len=15):\n",
    "    \"\"\"\n",
    "    Convert a document into a list of tokens.\n",
    "\n",
    "    This lowercases, tokenizes, de-accents (optional). -- the output are final\n",
    "    tokens = unicode strings, that won't be processed any further.\n",
    "\n",
    "    \"\"\"\n",
    "    tokens = [\n",
    "        token for token in tokenize(doc, lower=True, deacc=deacc, errors='ignore')\n",
    "        if min_len <= len(token) <= max_len and not token.startswith('_')\n",
    "    ]\n",
    "    return tokens"
   ],
   "metadata": {
    "collapsed": false,
    "pycharm": {
     "name": "#%%\n"
    }
   }
  },
  {
   "cell_type": "code",
   "execution_count": 27,
   "outputs": [
    {
     "name": "stdout",
     "output_type": "stream",
     "text": [
      "1     [virginamerica, plus, you, ve, added, commerci...\n",
      "6     [virginamerica, yes, nearly, every, time, fly,...\n",
      "8             [virginamerica, well, didn, but, now, do]\n",
      "9     [virginamerica, it, was, amazing, and, arrived...\n",
      "11    [virginamerica, lt, pretty, graphics, so, much...\n",
      "12    [virginamerica, this, is, such, great, deal, a...\n",
      "13    [virginamerica, virginmedia, flying, your, fab...\n",
      "14                              [virginamerica, thanks]\n",
      "16    [virginamerica, so, excited, for, my, first, c...\n",
      "18                              [flying, virginamerica]\n",
      "Name: tokenized_text, dtype: object\n"
     ]
    }
   ],
   "source": [
    "small_df['tokenized_text'] = small_df['text'].map(simple_preprocess)\n",
    "print(small_df['tokenized_text'].head(10))"
   ],
   "metadata": {
    "collapsed": false,
    "pycharm": {
     "name": "#%%\n"
    }
   }
  },
  {
   "cell_type": "markdown",
   "source": [
    "# Learn more about Stemming and Lemmatization:\n",
    "[Stemming and Lemmatization in Python](https://www.datacamp.com/tutorial/stemming-lemmatization-python)"
   ],
   "metadata": {
    "collapsed": false,
    "pycharm": {
     "name": "#%% md\n"
    }
   }
  },
  {
   "cell_type": "code",
   "execution_count": 28,
   "outputs": [],
   "source": [
    "import nltk\n",
    "from nltk.stem import PorterStemmer"
   ],
   "metadata": {
    "collapsed": false,
    "pycharm": {
     "name": "#%%\n"
    }
   }
  },
  {
   "cell_type": "code",
   "execution_count": 29,
   "outputs": [
    {
     "data": {
      "text/plain": "1     [virginamerica, plu, you, ve, ad, commerci, to...\n6     [virginamerica, ye, nearli, everi, time, fli, ...\n8             [virginamerica, well, didn, but, now, do]\n9     [virginamerica, it, wa, amaz, and, arriv, an, ...\n11    [virginamerica, lt, pretti, graphic, so, much,...\n12    [virginamerica, thi, is, such, great, deal, al...\n13    [virginamerica, virginmedia, fli, your, fabul,...\n14                               [virginamerica, thank]\n16    [virginamerica, so, excit, for, my, first, cro...\n18                                 [fli, virginamerica]\nName: stemmed_tokens, dtype: object"
     },
     "execution_count": 29,
     "metadata": {},
     "output_type": "execute_result"
    }
   ],
   "source": [
    "porter_stemmer = PorterStemmer()\n",
    "# Get the stemmed_tokens\n",
    "small_df['stemmed_tokens'] = [[porter_stemmer.stem(word) for word in tokens] for tokens in small_df['tokenized_text'] ]\n",
    "small_df['stemmed_tokens'].head(10)"
   ],
   "metadata": {
    "collapsed": false,
    "pycharm": {
     "name": "#%%\n"
    }
   }
  },
  {
   "cell_type": "code",
   "execution_count": 30,
   "outputs": [],
   "source": [
    "small_df[['sentiment', 'stemmed_tokens']].to_csv('saved.csv', quotechar='\"', index=False)"
   ],
   "metadata": {
    "collapsed": false,
    "pycharm": {
     "name": "#%%\n"
    }
   }
  }
 ],
 "metadata": {
  "kernelspec": {
   "display_name": "Python 3",
   "language": "python",
   "name": "python3"
  },
  "language_info": {
   "codemirror_mode": {
    "name": "ipython",
    "version": 2
   },
   "file_extension": ".py",
   "mimetype": "text/x-python",
   "name": "python",
   "nbconvert_exporter": "python",
   "pygments_lexer": "ipython2",
   "version": "2.7.6"
  }
 },
 "nbformat": 4,
 "nbformat_minor": 0
}